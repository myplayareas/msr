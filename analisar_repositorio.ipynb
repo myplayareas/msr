{
 "cells": [
  {
   "cell_type": "code",
   "execution_count": 2,
   "metadata": {},
   "outputs": [],
   "source": [
    "import entities\n",
    "import utils\n",
    "\n",
    "my_commit = 'd0fe717eef87dd036c39a106004f59ba79e6c342'\n",
    "url_repositorio_git = 'https://github.com/armandossrecife/syspromocity.git'\n",
    "repositorio_git_local = '/Users/armandosoaressousa/git/syspromocity'"
   ]
  },
  {
   "cell_type": "code",
   "execution_count": 9,
   "metadata": {},
   "outputs": [
    {
     "name": "stdout",
     "output_type": "stream",
     "text": [
      "Commit: d0fe717eef87dd036c39a106004f59ba79e6c342 submetido por Armando Soares Sousa em: 2018-11-03 22:21:56-03:00\n",
      "Commit: 0c6a0a2ace24f6e9e0340e866fe657881ec61b7e submetido por armandossrecife em: 2018-11-03 22:27:21-03:00\n",
      "Commit: c89438116f7d2a9a6c7e9ece2ba5500d116b827a submetido por Armando Soares Sousa em: 2018-11-04 12:05:42-03:00\n",
      "Commit: ea5ca0a8612b19ff3eb652bb836b976c35a51d77 submetido por Armando Soares Sousa em: 2018-11-04 12:07:03-03:00\n",
      "Commit: e493e5804d177c4ff08e167073614d76059ebb39 submetido por Armando Soares Sousa em: 2018-11-04 12:07:28-03:00\n",
      "Commit: 7022cf538a3ea315d3cc32842146fd4cc60501be submetido por Armando Soares Sousa em: 2018-11-04 12:08:45-03:00\n",
      "Commit: a9aed520b1858547f06a717b7d27800034b36883 submetido por armandossrecife em: 2018-11-04 22:48:52-03:00\n",
      "Commit: 4079c53e9f5f9dcef396e27995db889a46899af2 submetido por armandossrecife em: 2018-11-05 11:39:28-03:00\n",
      "Commit: 00b1fc62524db6d7875eaf58032ffc6982256990 submetido por armandossrecife em: 2018-11-05 20:18:29-03:00\n",
      "Commit: 9997bc03f96a0785c8b132852b146afe666e5098 submetido por Armando Soares Sousa em: 2018-11-05 22:04:33-03:00\n",
      "Commit: 366b3c63fac4668fadee71d7ccf72e2a987b42c1 submetido por armandossrecife em: 2018-11-09 11:21:24-03:00\n",
      "Commit: 9ae7284b03652f14346cf7e13043bed5eff7fb87 submetido por Armando Soares Sousa em: 2018-11-09 11:28:51-03:00\n",
      "Commit: 64a5db497023ff8d7979eb60d381471bacf33501 submetido por Armando Soares Sousa em: 2018-11-09 11:32:15-03:00\n",
      "Commit: e69cc711edb5cdfc88763473e43201f0b56ab1b5 submetido por armandossrecife em: 2018-11-09 22:52:44-03:00\n",
      "Commit: 763e3410b47a2f13211a642bbac51e8a9de62877 submetido por armandossrecife em: 2018-11-10 11:43:27-03:00\n",
      "Commit: 6c6f6809a74f90db681a0c4ad895d81497cf7f37 submetido por Armando Soares Sousa em: 2018-11-10 11:47:53-03:00\n",
      "Commit: 1bea97810d46a21e006bc1af87a476cf95f130ef submetido por armandossrecife em: 2018-11-10 18:30:49-03:00\n",
      "Commit: dc4ea9bae070fe8b045191b1e59605dc62d0d778 submetido por armandossrecife em: 2018-11-13 15:58:43-03:00\n",
      "Commit: 8885f7112291b7745c02cb32cfb8a93a1d5354ee submetido por Armando Soares Sousa em: 2018-11-13 16:01:36-03:00\n",
      "Commit: df48c4ccec1a450aac95c50b2e99464cca59de67 submetido por armandossrecife em: 2018-11-14 01:24:33-03:00\n",
      "Commit: 3b8e03f6d4b81917a509389f7250164ce03f6970 submetido por Armando Soares Sousa em: 2018-11-14 01:28:04-03:00\n",
      "Commit: 643222cbd92f44d3eb454f32c71e94d03f0a07ec submetido por armandossrecife em: 2018-11-16 21:52:03-03:00\n",
      "Commit: bc311434923e3b880b97d673bdc2b2c008018a73 submetido por Armando Soares Sousa em: 2018-11-17 17:16:51-03:00\n",
      "Commit: 35d70a82f4b2749c4b6cd729087e592fc7ce7e3c submetido por armandossrecife em: 2018-11-17 22:13:58-03:00\n",
      "Commit: 30c01df593e53797cacf89c9dc4d894d672db5e3 submetido por armandossrecife em: 2018-11-18 15:05:51-03:00\n",
      "Commit: bd31a4bf185619bffa186d6331208172676afb07 submetido por Armando Soares Sousa em: 2018-11-18 15:07:23-03:00\n",
      "Commit: 2378035d8ef77091b3d689076212e536a13dbfdb submetido por armandossrecife em: 2018-11-21 16:55:15-03:00\n",
      "Commit: 4ad128eb62fe9c832446764e0621eb166ff2245a submetido por Armando Soares Sousa em: 2018-11-21 16:56:32-03:00\n",
      "Commit: c93c63e160dccf9663e658db8d95d2ab39310f58 submetido por armandossrecife em: 2018-11-21 23:19:57-03:00\n",
      "Commit: 4277263e8ee6bb11ca2cee63e11cc00eec2e494c submetido por armandossrecife em: 2018-11-22 12:02:05-03:00\n",
      "Commit: 4f9ef94b4312cacfe6d4aa91a5edf8c58470273a submetido por armandossrecife em: 2018-11-22 14:03:58-03:00\n",
      "Commit: 99af27ceacc901d37301c47752e5aac54c70ebff submetido por Armando Soares Sousa em: 2018-11-22 14:05:10-03:00\n",
      "Commit: 8c8b4fadd40fecafd37339bee76f76d2ad75cc62 submetido por armandossrecife em: 2018-11-22 15:18:24-03:00\n",
      "Commit: 0c433f3a3e0bc733d9ec6f3384c40ef420f28463 submetido por armandossrecife em: 2018-11-22 21:32:51-03:00\n",
      "Commit: 7348f407fe606435c8d346a4c43168653ddb856e submetido por Armando Soares Sousa em: 2018-11-22 21:34:40-03:00\n",
      "Commit: 9514c8e8cec6b94ee08f16937c7c4e975f355d27 submetido por armandossrecife em: 2018-11-23 16:56:48-03:00\n",
      "Commit: 5e7901c2286849260bf4556fb64b9a4fdc8d7437 submetido por Armando Soares Sousa em: 2018-11-23 16:57:54-03:00\n",
      "Commit: 72ba4132aaee0f6b93fb6c42503162f8d496c1ad submetido por armandossrecife em: 2018-11-23 23:30:24-03:00\n",
      "Commit: 5a19df9c0297775ed48f515852cd96b37afc1113 submetido por Armando Soares Sousa em: 2018-11-24 09:46:34-03:00\n",
      "Commit: c2f475ada95867a31e1950d58b80808e7ce4f308 submetido por armandossrecife em: 2018-11-24 18:55:43-03:00\n",
      "Commit: 1756f45dc02a329d72385d77d48cea9dba357d93 submetido por Armando Soares Sousa em: 2018-11-24 18:57:35-03:00\n",
      "Commit: 06561c4581220935d0f250134fefd9dabe087ca8 submetido por Armando Soares Sousa em: 2018-11-24 19:17:37-03:00\n",
      "Commit: a9b77ee0d283f7dc75bb7c8d1844f90294977480 submetido por armandossrecife em: 2018-11-26 14:17:17-03:00\n",
      "Commit: dfca994475030c7c914e76b6454f39cb1c87b6c7 submetido por armandossrecife em: 2018-11-26 16:11:22-03:00\n",
      "Commit: 843326e57a7749b4c1c45739dd5230e74f63dca9 submetido por Armando Soares Sousa em: 2018-11-26 16:17:31-03:00\n",
      "Commit: 6f06d764f53ebf2f64b038d701cccb58ae11a7fc submetido por armandossrecife em: 2018-11-26 17:13:30-03:00\n",
      "Commit: b59dd8833d3bc485d4ae2b333fb7c2124c3bded6 submetido por armandossrecife em: 2018-11-26 20:27:18-03:00\n",
      "Commit: af509ad91c7d60877cb1213813ebc6d91e1cefd2 submetido por Armando Soares Sousa em: 2018-11-26 20:29:31-03:00\n",
      "Commit: 93874c63b739e301f3c0c597367f68bea9b729be submetido por armandossrecife em: 2018-11-27 13:20:47-03:00\n",
      "Commit: 3d5f6c7b29bac36452b27c93a0d7561f1b52358f submetido por armandossrecife em: 2018-11-27 17:06:06-03:00\n",
      "Commit: 755f81dc1e6135c78ae49e0544a585704cfa68b5 submetido por armandossrecife em: 2018-11-27 17:06:54-03:00\n",
      "Commit: 383b3e3466dd075909d2e0079b5722ba833c913d submetido por Armando Soares Sousa em: 2018-11-27 17:09:47-03:00\n",
      "Commit: 2c089e5309fa70e059669b27894586314bc4adc9 submetido por Armando Soares Sousa em: 2018-11-28 09:59:50-03:00\n",
      "Commit: 0077b275cb7cdd927bf59b8fa8b35fceaf1947a0 submetido por Armando Soares Sousa em: 2018-11-28 10:00:43-03:00\n",
      "Commit: b03ce2636eb5b2bf5ca4e3398448231ba059cfd3 submetido por Armando Soares Sousa em: 2018-11-28 10:37:36-03:00\n",
      "Commit: f894e1c01279bc7571ec5ec05eaeaf59c186f991 submetido por armandossrecife em: 2018-11-28 17:11:57-03:00\n",
      "Commit: 71fe6c262576662964fae85c55140b4642d629aa submetido por armandossrecife em: 2018-11-28 21:53:31-03:00\n",
      "Commit: ab2b304ddfa6a605af1d683d394c3488333c858d submetido por armandossrecife em: 2018-11-29 08:29:10-03:00\n",
      "Commit: 591244cea9b763db7a9977127c572d0bb3e3a8bb submetido por armandossrecife em: 2018-11-29 20:21:21-03:00\n",
      "Commit: bb71734ac1c6dcf07b06f1c6f4bcfe890d771a95 submetido por armandossrecife em: 2018-11-30 08:17:32-03:00\n",
      "Commit: b8c3a7ea7be6b8c88407ab75a25b86163ad04abd submetido por armandossrecife em: 2018-11-30 11:12:22-03:00\n",
      "Commit: fc0998d367aea7219a4791fcbcc5155b125b456e submetido por armandossrecife em: 2018-12-02 23:40:22-03:00\n",
      "Commit: ed1ceae8bf1789a30fc98fbfa24c2f2c8da1bf64 submetido por Armando Soares Sousa em: 2018-12-03 18:40:46-03:00\n",
      "Commit: c58cc0e6a8bb9355745b4fd5cc7accf3a56b4668 submetido por armandossrecife em: 2018-12-06 12:31:48-03:00\n",
      "Commit: 1f94f424783930742d685eccfe05717a7433124b submetido por Armando Soares Sousa em: 2018-12-06 12:35:50-03:00\n",
      "Commit: c63012507ea0d9c68643285aaf6523df11a32591 submetido por armandossrecife em: 2021-06-09 16:42:57-03:00\n",
      "Commit: c87cf84ce0ebbce3f88e7db2c531c44620f3e636 submetido por Armando Soares Sousa em: 2021-08-25 23:49:14-03:00\n"
     ]
    }
   ],
   "source": [
    "from pydriller import Repository\n",
    "\n",
    "for commit in Repository(repositorio_git_local).traverse_commits():\n",
    "    print(\n",
    "        f'Commit: {commit.hash} submetido por {commit.author.name} em: {commit.committer_date}'\n",
    "    )"
   ]
  },
  {
   "cell_type": "markdown",
   "metadata": {},
   "source": [
    "## 1. Lista os commits de um repositório"
   ]
  },
  {
   "cell_type": "code",
   "execution_count": 4,
   "metadata": {},
   "outputs": [
    {
     "name": "stdout",
     "output_type": "stream",
     "text": [
      "d0fe717eef87dd036c39a106004f59ba79e6c342\n",
      "0c6a0a2ace24f6e9e0340e866fe657881ec61b7e\n",
      "c89438116f7d2a9a6c7e9ece2ba5500d116b827a\n",
      "ea5ca0a8612b19ff3eb652bb836b976c35a51d77\n",
      "e493e5804d177c4ff08e167073614d76059ebb39\n",
      "7022cf538a3ea315d3cc32842146fd4cc60501be\n",
      "a9aed520b1858547f06a717b7d27800034b36883\n",
      "4079c53e9f5f9dcef396e27995db889a46899af2\n",
      "00b1fc62524db6d7875eaf58032ffc6982256990\n",
      "9997bc03f96a0785c8b132852b146afe666e5098\n",
      "366b3c63fac4668fadee71d7ccf72e2a987b42c1\n",
      "9ae7284b03652f14346cf7e13043bed5eff7fb87\n",
      "64a5db497023ff8d7979eb60d381471bacf33501\n",
      "e69cc711edb5cdfc88763473e43201f0b56ab1b5\n",
      "763e3410b47a2f13211a642bbac51e8a9de62877\n",
      "6c6f6809a74f90db681a0c4ad895d81497cf7f37\n",
      "1bea97810d46a21e006bc1af87a476cf95f130ef\n",
      "dc4ea9bae070fe8b045191b1e59605dc62d0d778\n",
      "8885f7112291b7745c02cb32cfb8a93a1d5354ee\n",
      "df48c4ccec1a450aac95c50b2e99464cca59de67\n",
      "3b8e03f6d4b81917a509389f7250164ce03f6970\n",
      "643222cbd92f44d3eb454f32c71e94d03f0a07ec\n",
      "bc311434923e3b880b97d673bdc2b2c008018a73\n",
      "35d70a82f4b2749c4b6cd729087e592fc7ce7e3c\n",
      "30c01df593e53797cacf89c9dc4d894d672db5e3\n",
      "bd31a4bf185619bffa186d6331208172676afb07\n",
      "2378035d8ef77091b3d689076212e536a13dbfdb\n",
      "4ad128eb62fe9c832446764e0621eb166ff2245a\n",
      "c93c63e160dccf9663e658db8d95d2ab39310f58\n",
      "4277263e8ee6bb11ca2cee63e11cc00eec2e494c\n",
      "4f9ef94b4312cacfe6d4aa91a5edf8c58470273a\n",
      "99af27ceacc901d37301c47752e5aac54c70ebff\n",
      "8c8b4fadd40fecafd37339bee76f76d2ad75cc62\n",
      "0c433f3a3e0bc733d9ec6f3384c40ef420f28463\n",
      "7348f407fe606435c8d346a4c43168653ddb856e\n",
      "9514c8e8cec6b94ee08f16937c7c4e975f355d27\n",
      "5e7901c2286849260bf4556fb64b9a4fdc8d7437\n",
      "72ba4132aaee0f6b93fb6c42503162f8d496c1ad\n",
      "5a19df9c0297775ed48f515852cd96b37afc1113\n",
      "c2f475ada95867a31e1950d58b80808e7ce4f308\n",
      "1756f45dc02a329d72385d77d48cea9dba357d93\n",
      "06561c4581220935d0f250134fefd9dabe087ca8\n",
      "a9b77ee0d283f7dc75bb7c8d1844f90294977480\n",
      "dfca994475030c7c914e76b6454f39cb1c87b6c7\n",
      "843326e57a7749b4c1c45739dd5230e74f63dca9\n",
      "6f06d764f53ebf2f64b038d701cccb58ae11a7fc\n",
      "b59dd8833d3bc485d4ae2b333fb7c2124c3bded6\n",
      "af509ad91c7d60877cb1213813ebc6d91e1cefd2\n",
      "93874c63b739e301f3c0c597367f68bea9b729be\n",
      "3d5f6c7b29bac36452b27c93a0d7561f1b52358f\n",
      "755f81dc1e6135c78ae49e0544a585704cfa68b5\n",
      "383b3e3466dd075909d2e0079b5722ba833c913d\n",
      "2c089e5309fa70e059669b27894586314bc4adc9\n",
      "0077b275cb7cdd927bf59b8fa8b35fceaf1947a0\n",
      "b03ce2636eb5b2bf5ca4e3398448231ba059cfd3\n",
      "f894e1c01279bc7571ec5ec05eaeaf59c186f991\n",
      "71fe6c262576662964fae85c55140b4642d629aa\n",
      "ab2b304ddfa6a605af1d683d394c3488333c858d\n",
      "591244cea9b763db7a9977127c572d0bb3e3a8bb\n",
      "bb71734ac1c6dcf07b06f1c6f4bcfe890d771a95\n",
      "b8c3a7ea7be6b8c88407ab75a25b86163ad04abd\n",
      "fc0998d367aea7219a4791fcbcc5155b125b456e\n",
      "ed1ceae8bf1789a30fc98fbfa24c2f2c8da1bf64\n",
      "c58cc0e6a8bb9355745b4fd5cc7accf3a56b4668\n",
      "1f94f424783930742d685eccfe05717a7433124b\n",
      "c63012507ea0d9c68643285aaf6523df11a32591\n",
      "c87cf84ce0ebbce3f88e7db2c531c44620f3e636\n"
     ]
    }
   ],
   "source": [
    "lista_commits = utils.list_commits_hash_from_repository(repositorio_git_local)\n",
    "\n",
    "for each in lista_commits: \n",
    "    print(each)"
   ]
  },
  {
   "cell_type": "code",
   "execution_count": 10,
   "metadata": {},
   "outputs": [
    {
     "name": "stdout",
     "output_type": "stream",
     "text": [
      "<pydriller.domain.commit.Commit object at 0x10e7f0a58>\n",
      "<pydriller.domain.commit.Commit object at 0x10e7f09b0>\n",
      "<pydriller.domain.commit.Commit object at 0x10e7f0a20>\n",
      "<pydriller.domain.commit.Commit object at 0x10e7f0cf8>\n",
      "<pydriller.domain.commit.Commit object at 0x10e7f0a90>\n",
      "<pydriller.domain.commit.Commit object at 0x10e7f0be0>\n",
      "<pydriller.domain.commit.Commit object at 0x10e7f0dd8>\n",
      "<pydriller.domain.commit.Commit object at 0x10e7f0908>\n",
      "<pydriller.domain.commit.Commit object at 0x10e7f0cc0>\n",
      "<pydriller.domain.commit.Commit object at 0x10ecac3c8>\n",
      "<pydriller.domain.commit.Commit object at 0x10ecac358>\n",
      "<pydriller.domain.commit.Commit object at 0x10ecac630>\n",
      "<pydriller.domain.commit.Commit object at 0x10ecac160>\n",
      "<pydriller.domain.commit.Commit object at 0x10ecac048>\n",
      "<pydriller.domain.commit.Commit object at 0x10ecaca20>\n",
      "<pydriller.domain.commit.Commit object at 0x10ecacbe0>\n",
      "<pydriller.domain.commit.Commit object at 0x10ecac0b8>\n",
      "<pydriller.domain.commit.Commit object at 0x10ecac6a0>\n",
      "<pydriller.domain.commit.Commit object at 0x10ecac908>\n",
      "<pydriller.domain.commit.Commit object at 0x10ecacf28>\n",
      "<pydriller.domain.commit.Commit object at 0x10ecac080>\n",
      "<pydriller.domain.commit.Commit object at 0x10ecac518>\n",
      "<pydriller.domain.commit.Commit object at 0x10ecac550>\n",
      "<pydriller.domain.commit.Commit object at 0x10ecacba8>\n",
      "<pydriller.domain.commit.Commit object at 0x10ecac4a8>\n",
      "<pydriller.domain.commit.Commit object at 0x10ecac940>\n",
      "<pydriller.domain.commit.Commit object at 0x10ecac7b8>\n",
      "<pydriller.domain.commit.Commit object at 0x10ecac780>\n",
      "<pydriller.domain.commit.Commit object at 0x10ecac2b0>\n",
      "<pydriller.domain.commit.Commit object at 0x10ecac8d0>\n",
      "<pydriller.domain.commit.Commit object at 0x10ecac1d0>\n",
      "<pydriller.domain.commit.Commit object at 0x10ecacf60>\n",
      "<pydriller.domain.commit.Commit object at 0x10ecac198>\n",
      "<pydriller.domain.commit.Commit object at 0x10ecace10>\n",
      "<pydriller.domain.commit.Commit object at 0x10ecacef0>\n",
      "<pydriller.domain.commit.Commit object at 0x10ecac208>\n",
      "<pydriller.domain.commit.Commit object at 0x10ecac710>\n",
      "<pydriller.domain.commit.Commit object at 0x10ecacdd8>\n",
      "<pydriller.domain.commit.Commit object at 0x10ecac240>\n",
      "<pydriller.domain.commit.Commit object at 0x10ecaccf8>\n",
      "<pydriller.domain.commit.Commit object at 0x10ecac278>\n",
      "<pydriller.domain.commit.Commit object at 0x10ecac9b0>\n",
      "<pydriller.domain.commit.Commit object at 0x10ecac748>\n",
      "<pydriller.domain.commit.Commit object at 0x10ec555f8>\n",
      "<pydriller.domain.commit.Commit object at 0x10ec55978>\n",
      "<pydriller.domain.commit.Commit object at 0x10ec559e8>\n",
      "<pydriller.domain.commit.Commit object at 0x10ec559b0>\n",
      "<pydriller.domain.commit.Commit object at 0x10ec55198>\n",
      "<pydriller.domain.commit.Commit object at 0x10ec554e0>\n",
      "<pydriller.domain.commit.Commit object at 0x10ec55a90>\n",
      "<pydriller.domain.commit.Commit object at 0x10ec55d68>\n",
      "<pydriller.domain.commit.Commit object at 0x10ec55cf8>\n",
      "<pydriller.domain.commit.Commit object at 0x10ec55588>\n",
      "<pydriller.domain.commit.Commit object at 0x10ec55a58>\n",
      "<pydriller.domain.commit.Commit object at 0x10ec55c18>\n",
      "<pydriller.domain.commit.Commit object at 0x10ec55320>\n",
      "<pydriller.domain.commit.Commit object at 0x10ec55048>\n",
      "<pydriller.domain.commit.Commit object at 0x10ec55940>\n",
      "<pydriller.domain.commit.Commit object at 0x10ec550b8>\n",
      "<pydriller.domain.commit.Commit object at 0x10ec88f98>\n",
      "<pydriller.domain.commit.Commit object at 0x10ec88898>\n",
      "<pydriller.domain.commit.Commit object at 0x10ec881d0>\n",
      "<pydriller.domain.commit.Commit object at 0x10ec884a8>\n",
      "<pydriller.domain.commit.Commit object at 0x10ec88f60>\n",
      "<pydriller.domain.commit.Commit object at 0x10ec88240>\n",
      "<pydriller.domain.commit.Commit object at 0x10ec885f8>\n",
      "<pydriller.domain.commit.Commit object at 0x10ec889b0>\n"
     ]
    }
   ],
   "source": [
    "lista_repositorio_remoto = utils.list_commits_from_repository(url_repositorio_git)\n",
    "\n",
    "for each in lista_repositorio_remoto: \n",
    "    print(each)"
   ]
  },
  {
   "cell_type": "markdown",
   "metadata": {},
   "source": [
    "## 2. Dado um commit, mostra os arquivos modificados no commit"
   ]
  },
  {
   "cell_type": "code",
   "execution_count": 5,
   "metadata": {},
   "outputs": [
    {
     "name": "stdout",
     "output_type": "stream",
     "text": [
      "1 - Name: pom.xml, old_path: pom.xml, new_path: pom.xml change_type: MODIFY, Lines added: 2, Lines deleted: 2, Modifications: 4,  Number of lines: None, Complexity: None\n",
      "2 - Name: Store.java, old_path: src/main/java/br/ufc/great/syspromocity/model/Store.java, new_path: src/main/java/br/ufc/great/syspromocity/model/Store.java change_type: MODIFY, Lines added: 18, Lines deleted: 0, Modifications: 18,  Number of lines: 96, Complexity: 24\n",
      "3 - Name: LocationStore.java, old_path: src/main/java/br/ufc/great/syspromocity/util/LocationStore.java, new_path: src/main/java/br/ufc/great/syspromocity/util/LocationStore.java change_type: MODIFY, Lines added: 20, Lines deleted: 0, Modifications: 20,  Number of lines: 88, Complexity: 22\n",
      "4 - Name: mapa.js, old_path: src/main/resources/static/dist/js/mapa.js, new_path: src/main/resources/static/dist/js/mapa.js change_type: MODIFY, Lines added: 24, Lines deleted: 2, Modifications: 26,  Number of lines: 74, Complexity: 8\n",
      "5 - Name: mapsStores.json, old_path: src/main/resources/static/dist/js/mapsStores.json, new_path: src/main/resources/static/dist/js/mapsStores.json change_type: MODIFY, Lines added: 31, Lines deleted: 11, Modifications: 42,  Number of lines: None, Complexity: None\n",
      "6 - Name: indexStoreOwner.html, old_path: src/main/resources/templates/dashboard/indexStoreOwner.html, new_path: src/main/resources/templates/dashboard/indexStoreOwner.html change_type: MODIFY, Lines added: 1, Lines deleted: 1, Modifications: 2,  Number of lines: None, Complexity: None\n",
      "7 - Name: indexUser.html, old_path: src/main/resources/templates/dashboard/indexUser.html, new_path: src/main/resources/templates/dashboard/indexUser.html change_type: MODIFY, Lines added: 1, Lines deleted: 1, Modifications: 2,  Number of lines: None, Complexity: None\n"
     ]
    }
   ],
   "source": [
    "i = 1\n",
    "for m in utils.list_modified_files_from_commit('c58cc0e6a8bb9355745b4fd5cc7accf3a56b4668', repositorio_git_local):\n",
    "    mf = entities.MyModifiedFile(m)\n",
    "    print(f\"{i} - Name: {mf.get_filename()}, old_path: {mf.get_old_path()}, new_path: {mf.get_new_path()} change_type: {mf.get_change_type()}, Lines added: {mf.get_added_lines()}, \\\n",
    "Lines deleted: {mf.get_deleted_lines()}, Modifications: {mf.get_modifications()},  Number of lines: {mf.get_nloc()}, Complexity: {mf.get_complexity()}\")\n",
    "    i += 1"
   ]
  },
  {
   "cell_type": "markdown",
   "metadata": {},
   "source": [
    "## 3. Lista de commits entre duas tags"
   ]
  },
  {
   "cell_type": "code",
   "execution_count": 6,
   "metadata": {},
   "outputs": [
    {
     "name": "stdout",
     "output_type": "stream",
     "text": [
      "[<pydriller.domain.commit.Commit object at 0x10ec6f3c8>, <pydriller.domain.commit.Commit object at 0x10ec6f048>, <pydriller.domain.commit.Commit object at 0x10ec6f0f0>, <pydriller.domain.commit.Commit object at 0x10ec6f128>, <pydriller.domain.commit.Commit object at 0x10ec6f278>, <pydriller.domain.commit.Commit object at 0x10ec6f400>, <pydriller.domain.commit.Commit object at 0x10ec6f358>, <pydriller.domain.commit.Commit object at 0x10ec6f470>, <pydriller.domain.commit.Commit object at 0x10ec6ff60>, <pydriller.domain.commit.Commit object at 0x10ec6f390>, <pydriller.domain.commit.Commit object at 0x10ec6f2e8>, <pydriller.domain.commit.Commit object at 0x10ec55470>, <pydriller.domain.commit.Commit object at 0x10ec550f0>]\n"
     ]
    }
   ],
   "source": [
    "lista_commits_entre_tags = utils.list_commits_between_tags(from_tag='syspromocity-v1.0.0', to_tag='syspromocity-v1.2.1', my_repository=repositorio_git_local) \n",
    "print(lista_commits_entre_tags)"
   ]
  },
  {
   "cell_type": "code",
   "execution_count": 7,
   "metadata": {},
   "outputs": [
    {
     "name": "stdout",
     "output_type": "stream",
     "text": [
      " 13 commits\n",
      "383b3e3466dd075909d2e0079b5722ba833c913d\n",
      "2c089e5309fa70e059669b27894586314bc4adc9\n",
      "0077b275cb7cdd927bf59b8fa8b35fceaf1947a0\n",
      "b03ce2636eb5b2bf5ca4e3398448231ba059cfd3\n",
      "f894e1c01279bc7571ec5ec05eaeaf59c186f991\n",
      "71fe6c262576662964fae85c55140b4642d629aa\n",
      "ab2b304ddfa6a605af1d683d394c3488333c858d\n",
      "591244cea9b763db7a9977127c572d0bb3e3a8bb\n",
      "bb71734ac1c6dcf07b06f1c6f4bcfe890d771a95\n",
      "b8c3a7ea7be6b8c88407ab75a25b86163ad04abd\n",
      "fc0998d367aea7219a4791fcbcc5155b125b456e\n",
      "ed1ceae8bf1789a30fc98fbfa24c2f2c8da1bf64\n",
      "c58cc0e6a8bb9355745b4fd5cc7accf3a56b4668\n"
     ]
    }
   ],
   "source": [
    "print(f' {len(lista_commits_entre_tags)} commits')\n",
    "\n",
    "for each in lista_commits_entre_tags:\n",
    "    print(each.hash)"
   ]
  },
  {
   "cell_type": "markdown",
   "metadata": {},
   "source": [
    "## 4 Para cada commit entre as tags comparadas mostre os arquivos modificados"
   ]
  },
  {
   "cell_type": "markdown",
   "metadata": {},
   "source": [
    "### Mostra todos os arquivos modificados entre as tags"
   ]
  },
  {
   "cell_type": "code",
   "execution_count": 12,
   "metadata": {},
   "outputs": [
    {
     "name": "stdout",
     "output_type": "stream",
     "text": [
      "383b3e3466dd075909d2e0079b5722ba833c913d\n",
      "2c089e5309fa70e059669b27894586314bc4adc9\n",
      "1 - Name: security.sql, change_type: MODIFY, Modifications: 8,  Number of lines: None, Complexity: None\n",
      "0077b275cb7cdd927bf59b8fa8b35fceaf1947a0\n",
      "1 - Name: autorities.sql, change_type: DELETE, Modifications: 15,  Number of lines: None, Complexity: None\n",
      "b03ce2636eb5b2bf5ca4e3398448231ba059cfd3\n",
      "1 - Name: README.md, change_type: MODIFY, Modifications: 1,  Number of lines: None, Complexity: None\n",
      "f894e1c01279bc7571ec5ec05eaeaf59c186f991\n",
      "1 - Name: UserController.java, change_type: MODIFY, Modifications: 6,  Number of lines: 299, Complexity: 35\n",
      "71fe6c262576662964fae85c55140b4642d629aa\n",
      "1 - Name: Coupon.java, change_type: MODIFY, Modifications: 20,  Number of lines: 66, Complexity: 15\n",
      "2 - Name: Users.java, change_type: MODIFY, Modifications: 4,  Number of lines: 139, Complexity: 32\n",
      "ab2b304ddfa6a605af1d683d394c3488333c858d\n",
      "1 - Name: Coupon.java, change_type: MODIFY, Modifications: 63,  Number of lines: 105, Complexity: 26\n",
      "2 - Name: all.html, change_type: MODIFY, Modifications: 2,  Number of lines: None, Complexity: None\n",
      "3 - Name: listCoupons.html, change_type: MODIFY, Modifications: 2,  Number of lines: None, Complexity: None\n",
      "4 - Name: listCoupons.html, change_type: MODIFY, Modifications: 2,  Number of lines: None, Complexity: None\n",
      "591244cea9b763db7a9977127c572d0bb3e3a8bb\n",
      "1 - Name: form.html, change_type: MODIFY, Modifications: 38,  Number of lines: None, Complexity: None\n",
      "2 - Name: list.html, change_type: MODIFY, Modifications: 6,  Number of lines: None, Complexity: None\n",
      "bb71734ac1c6dcf07b06f1c6f4bcfe890d771a95\n",
      "1 - Name: 10.png, change_type: ADD, Modifications: 0,  Number of lines: None, Complexity: None\n",
      "2 - Name: 7.png, change_type: ADD, Modifications: 0,  Number of lines: None, Complexity: None\n",
      "3 - Name: 8.png, change_type: ADD, Modifications: 0,  Number of lines: None, Complexity: None\n",
      "4 - Name: 9.png, change_type: ADD, Modifications: 0,  Number of lines: None, Complexity: None\n",
      "5 - Name: Coupon.java, change_type: MODIFY, Modifications: 6,  Number of lines: 108, Complexity: 26\n",
      "6 - Name: Users.java, change_type: MODIFY, Modifications: 34,  Number of lines: 154, Complexity: 36\n",
      "b8c3a7ea7be6b8c88407ab75a25b86163ad04abd\n",
      "1 - Name: Tela 1 - Login.png, change_type: ADD, Modifications: 0,  Number of lines: None, Complexity: None\n",
      "2 - Name: Tela 10 - Usuario Lojista.png, change_type: ADD, Modifications: 0,  Number of lines: None, Complexity: None\n",
      "3 - Name: Tela 11 - Lojista cadastra sua loja.png, change_type: ADD, Modifications: 0,  Number of lines: None, Complexity: None\n",
      "4 - Name: Tela 12 - Lojista cadastra promocao.png, change_type: ADD, Modifications: 0,  Number of lines: None, Complexity: None\n",
      "5 - Name: Tela 13 - Lojista edita um cupom ja cadastrado.png, change_type: ADD, Modifications: 0,  Number of lines: None, Complexity: None\n",
      "6 - Name: Tela 14 - Usuario comum.png, change_type: ADD, Modifications: 0,  Number of lines: None, Complexity: None\n",
      "7 - Name: Tela 2 - Autoregistro.png, change_type: ADD, Modifications: 0,  Number of lines: None, Complexity: None\n",
      "8 - Name: Tela 3 - Admin.png, change_type: ADD, Modifications: 0,  Number of lines: None, Complexity: None\n",
      "9 - Name: Tela 4 - Admin Lojas.png, change_type: ADD, Modifications: 0,  Number of lines: None, Complexity: None\n",
      "10 - Name: Tela 5 - Admin Cupons.png, change_type: ADD, Modifications: 0,  Number of lines: None, Complexity: None\n",
      "11 - Name: Tela 6 - Admin profile.png, change_type: ADD, Modifications: 0,  Number of lines: None, Complexity: None\n",
      "12 - Name: Tela 7 - Meus Cupons.png, change_type: ADD, Modifications: 0,  Number of lines: None, Complexity: None\n",
      "13 - Name: Tela 8 - Usuarios disponiveis.png, change_type: ADD, Modifications: 0,  Number of lines: None, Complexity: None\n",
      "14 - Name: Tela 9 - Meus amigos.png, change_type: ADD, Modifications: 0,  Number of lines: None, Complexity: None\n",
      "fc0998d367aea7219a4791fcbcc5155b125b456e\n",
      "1 - Name: pom.xml, change_type: MODIFY, Modifications: 4,  Number of lines: None, Complexity: None\n",
      "2 - Name: StoreController.java, change_type: MODIFY, Modifications: 25,  Number of lines: 321, Complexity: 39\n",
      "3 - Name: LocationStore.java, change_type: ADD, Modifications: 79,  Number of lines: 72, Complexity: 18\n",
      "4 - Name: mapa.js, change_type: MODIFY, Modifications: 13,  Number of lines: 55, Complexity: 8\n",
      "5 - Name: index.html, change_type: MODIFY, Modifications: 2,  Number of lines: None, Complexity: None\n",
      "ed1ceae8bf1789a30fc98fbfa24c2f2c8da1bf64\n",
      "1 - Name: login.html, change_type: MODIFY, Modifications: 4,  Number of lines: None, Complexity: None\n",
      "c58cc0e6a8bb9355745b4fd5cc7accf3a56b4668\n",
      "1 - Name: pom.xml, change_type: MODIFY, Modifications: 4,  Number of lines: None, Complexity: None\n",
      "2 - Name: Store.java, change_type: MODIFY, Modifications: 18,  Number of lines: 96, Complexity: 24\n",
      "3 - Name: LocationStore.java, change_type: MODIFY, Modifications: 20,  Number of lines: 88, Complexity: 22\n",
      "4 - Name: mapa.js, change_type: MODIFY, Modifications: 26,  Number of lines: 74, Complexity: 8\n",
      "5 - Name: mapsStores.json, change_type: MODIFY, Modifications: 42,  Number of lines: None, Complexity: None\n",
      "6 - Name: indexStoreOwner.html, change_type: MODIFY, Modifications: 2,  Number of lines: None, Complexity: None\n",
      "7 - Name: indexUser.html, change_type: MODIFY, Modifications: 2,  Number of lines: None, Complexity: None\n"
     ]
    }
   ],
   "source": [
    "for each in lista_commits_entre_tags:\n",
    "    print(each.hash)\n",
    "    i = 1\n",
    "    for m in utils.list_modified_files_from_commit(each.hash, repositorio_git_local):\n",
    "        mf = entities.MyModifiedFile(m)\n",
    "        print(f\"{i} - Name: {mf.get_filename()}, change_type: {mf.get_change_type()}, Modifications: {mf.get_modifications()},  Number of lines: {mf.get_nloc()}, Complexity: {mf.get_complexity()}\")\n",
    "        i += 1"
   ]
  },
  {
   "cell_type": "markdown",
   "metadata": {},
   "source": [
    "### Mostra apenas os arquivos .java modificados entre as tags analisadas"
   ]
  },
  {
   "cell_type": "code",
   "execution_count": 44,
   "metadata": {},
   "outputs": [
    {
     "name": "stdout",
     "output_type": "stream",
     "text": [
      "383b3e3466dd075909d2e0079b5722ba833c913d\n",
      "2c089e5309fa70e059669b27894586314bc4adc9\n",
      "0077b275cb7cdd927bf59b8fa8b35fceaf1947a0\n",
      "b03ce2636eb5b2bf5ca4e3398448231ba059cfd3\n",
      "f894e1c01279bc7571ec5ec05eaeaf59c186f991\n",
      "1 - Name: UserController.java, change_type: MODIFY, Modifications: 6,  Number of lines: 299, Complexity: 35\n",
      "71fe6c262576662964fae85c55140b4642d629aa\n",
      "1 - Name: Coupon.java, change_type: MODIFY, Modifications: 20,  Number of lines: 66, Complexity: 15\n",
      "2 - Name: Users.java, change_type: MODIFY, Modifications: 4,  Number of lines: 139, Complexity: 32\n",
      "ab2b304ddfa6a605af1d683d394c3488333c858d\n",
      "1 - Name: Coupon.java, change_type: MODIFY, Modifications: 63,  Number of lines: 105, Complexity: 26\n",
      "591244cea9b763db7a9977127c572d0bb3e3a8bb\n",
      "bb71734ac1c6dcf07b06f1c6f4bcfe890d771a95\n",
      "1 - Name: Coupon.java, change_type: MODIFY, Modifications: 6,  Number of lines: 108, Complexity: 26\n",
      "2 - Name: Users.java, change_type: MODIFY, Modifications: 34,  Number of lines: 154, Complexity: 36\n",
      "b8c3a7ea7be6b8c88407ab75a25b86163ad04abd\n",
      "fc0998d367aea7219a4791fcbcc5155b125b456e\n",
      "1 - Name: StoreController.java, change_type: MODIFY, Modifications: 25,  Number of lines: 321, Complexity: 39\n",
      "2 - Name: LocationStore.java, change_type: ADD, Modifications: 79,  Number of lines: 72, Complexity: 18\n",
      "ed1ceae8bf1789a30fc98fbfa24c2f2c8da1bf64\n",
      "c58cc0e6a8bb9355745b4fd5cc7accf3a56b4668\n",
      "1 - Name: Store.java, change_type: MODIFY, Modifications: 18,  Number of lines: 96, Complexity: 24\n",
      "2 - Name: LocationStore.java, change_type: MODIFY, Modifications: 20,  Number of lines: 88, Complexity: 22\n",
      "\n",
      "conjunto: [[], [], [], [], ['UserController.java'], ['Coupon.java', 'Users.java'], ['Coupon.java'], [], ['Coupon.java', 'Users.java'], [], ['StoreController.java', 'LocationStore.java'], [], ['Store.java', 'LocationStore.java']]\n"
     ]
    }
   ],
   "source": [
    "lista_conjunto = []\n",
    "lista_aux = []\n",
    "for commit in lista_commits_entre_tags:\n",
    "    print(commit.hash)\n",
    "    i = 1\n",
    "    for m in utils.list_modified_files_from_commit(commit.hash, repositorio_git_local):\n",
    "        mf = entities.MyModifiedFile(m)\n",
    "        name = mf.get_filename()\n",
    "        if '.java' in name:\n",
    "            print(f\"{i} - Name: {mf.get_filename()}, change_type: {mf.get_change_type()}, Modifications: {mf.get_modifications()},  Number of lines: {mf.get_nloc()}, Complexity: {mf.get_complexity()}\")\n",
    "            lista_aux.append(name)\n",
    "            i += 1  \n",
    "    i = 0  \n",
    "    lista_conjunto.append(lista_aux)\n",
    "    lista_aux = []\n",
    "print('')\n",
    "print(f'conjunto: {lista_conjunto}')"
   ]
  },
  {
   "cell_type": "code",
   "execution_count": null,
   "metadata": {},
   "outputs": [],
   "source": []
  }
 ],
 "metadata": {
  "interpreter": {
   "hash": "58bc13ec4dd135858b8220102d0ad3358f57eb64d131366ec25c4d4365eacf63"
  },
  "kernelspec": {
   "display_name": "Python 3.6.3 64-bit",
   "name": "python3"
  },
  "language_info": {
   "codemirror_mode": {
    "name": "ipython",
    "version": 3
   },
   "file_extension": ".py",
   "mimetype": "text/x-python",
   "name": "python",
   "nbconvert_exporter": "python",
   "pygments_lexer": "ipython3",
   "version": "3.6.3"
  },
  "orig_nbformat": 4
 },
 "nbformat": 4,
 "nbformat_minor": 2
}
